{
 "cells": [
  {
   "cell_type": "markdown",
   "metadata": {},
   "source": [
    "# Directed Graph\n",
    "- 5 nodes\n",
    "- skip connection: $t_0=2$\n",
    "- graph weights: all 1"
   ]
  },
  {
   "cell_type": "code",
   "execution_count": 1,
   "metadata": {},
   "outputs": [
    {
     "data": {
      "image/png": "[encoded data removed]",
      "text/plain": [
       "<Figure size 360x72 with 1 Axes>"
      ]
     },
     "metadata": {},
     "output_type": "display_data"
    }
   ],
   "source": [
    "import networkx as nx\n",
    "import matplotlib.pyplot as plt\n",
    "\n",
    "# 创建一个有向图\n",
    "G = nx.DiGraph()\n",
    "\n",
    "# 添加节点\n",
    "nodes = [1, 2, 3, 4, 5]\n",
    "G.add_nodes_from(nodes)\n",
    "\n",
    "# 添加有向边（连线）\n",
    "edges = [(1, 2), (2, 3), (3, 4), (4,5), (1, 3), (2, 4), (3,5)]#, (1,4), (2,5)]\n",
    "G.add_edges_from(edges)\n",
    "\n",
    "# 手动设置节点位置，使其沿 x 轴排成直线\n",
    "pos = {1: (0, 0), 2: (1, -0.2), 3: (2, -0.3), 4: (3, -0.2), 5: (4, 0)}\n",
    "\n",
    "# 绘图\n",
    "plt.figure(figsize=(5, 1))  # 设置图像大小\n",
    "\n",
    "# 绘制图形\n",
    "nx.draw(G, pos, with_labels=True, node_size=1000, node_color='lightblue', edge_color='gray', font_size=14, font_weight='bold', arrows=True)\n",
    "\n",
    "# 显示图\n",
    "plt.show()\n"
   ]
  },
  {
   "cell_type": "markdown",
   "metadata": {},
   "source": [
    "Normalized Laplacian Matrix\n",
    "$$\n",
    "\\mathbf{L}^d_r = \\begin{bmatrix}\n",
    "0\\\\\n",
    "-1 & 1\\\\\n",
    "-1/2 & -1/2 & 1\\\\\n",
    " & -1/2 & -1/2 & 1\\\\\n",
    " & & -1/2& -1/2  &1\n",
    "\\end{bmatrix}\n",
    "$$\n",
    "\n",
    "Save graph weights in time-connection list and matrix: `(5, 2)`"
   ]
  },
  {
   "cell_type": "code",
   "execution_count": 2,
   "metadata": {},
   "outputs": [
    {
     "name": "stdout",
     "output_type": "stream",
     "text": [
      "tensor([[0.0000, 0.0000],\n",
      "        [1.0000, 0.0000],\n",
      "        [0.5000, 0.5000],\n",
      "        [0.5000, 0.5000],\n",
      "        [0.5000, 0.5000]])\n"
     ]
    }
   ],
   "source": [
    "import torch\n",
    "d_ew = torch.ones(5,2)\n",
    "d_ew = torch.tril(d_ew, diagonal=-1)\n",
    "d_ew[0,0] = 1\n",
    "degree = d_ew.sum(1)\n",
    "d_ew = d_ew / degree[:,None]\n",
    "d_ew[0,0] = 0\n",
    "print(d_ew)"
   ]
  },
  {
   "cell_type": "code",
   "execution_count": 3,
   "metadata": {},
   "outputs": [
    {
     "name": "stdout",
     "output_type": "stream",
     "text": [
      "tensor([[-1, -2],\n",
      "        [ 0, -1],\n",
      "        [ 1,  0],\n",
      "        [ 2,  1],\n",
      "        [ 3,  2]])\n"
     ]
    }
   ],
   "source": [
    "time_list = torch.arange(0,5).reshape(-1, 1) - torch.arange(1,3)\n",
    "print(time_list)"
   ]
  },
  {
   "cell_type": "code",
   "execution_count": 7,
   "metadata": {},
   "outputs": [
    {
     "name": "stdout",
     "output_type": "stream",
     "text": [
      "tensor([[0., 0., 0., 0., 0.],\n",
      "        [1., 0., 0., 0., 0.],\n",
      "        [1., 1., 0., 0., 0.],\n",
      "        [0., 1., 1., 0., 0.],\n",
      "        [0., 0., 1., 1., 0.]])\n",
      "tensor([[ 0.0000,  0.0000,  0.0000,  0.0000,  0.0000],\n",
      "        [-1.0000,  1.0000,  0.0000,  0.0000,  0.0000],\n",
      "        [-0.5000, -0.5000,  1.0000,  0.0000,  0.0000],\n",
      "        [ 0.0000, -0.5000, -0.5000,  1.0000,  0.0000],\n",
      "        [ 0.0000,  0.0000, -0.5000, -0.5000,  1.0000]])\n"
     ]
    }
   ],
   "source": [
    "W = torch.zeros(5,5)\n",
    "# Ldr.diagonal(0).fill_(1)\n",
    "W.diagonal(-1).fill_(1)\n",
    "W.diagonal(-2).fill_(1)\n",
    "print(W)\n",
    "W[0,0] = 1\n",
    "Wdr = W / W.sum(1, keepdim=True)\n",
    "# Ldr[0,0] = 0\n",
    "# Ldr =\n",
    "Ldr = torch.eye(5) - Wdr\n",
    "\n",
    "print(Ldr)\n"
   ]
  },
  {
   "cell_type": "code",
   "execution_count": null,
   "metadata": {},
   "outputs": [
    {
     "name": "stdout",
     "output_type": "stream",
     "text": [
      "tensor([0.0000, 1.0000, 1.5000, 1.5000, 1.5000])\n",
      "tensor([0.0000, 1.0000, 1.5000, 1.5000, 1.5000])\n"
     ]
    }
   ],
   "source": [
    "# L^d_r x\n",
    "\n",
    "# signal\n",
    "x = torch.Tensor([1, 2, 3, 4, 5])\n",
    "\n",
    "features = (d_ew.view(-1) * x[time_list.view(-1)]).reshape(-1, 2) # in (T, t_0)\n",
    "y = x - features.sum(1)\n",
    "y[0] = 0\n",
    "print(y)\n",
    "\n",
    "print(Ldr @ x)"
   ]
  },
  {
   "cell_type": "code",
   "execution_count": 10,
   "metadata": {},
   "outputs": [
    {
     "name": "stdout",
     "output_type": "stream",
     "text": [
      "tensor([-3.5000, -1.5000, -1.5000,  1.5000,  5.0000])\n",
      "tensor([-3.5000, -1.5000, -1.5000,  1.5000,  5.0000])\n"
     ]
    }
   ],
   "source": [
    "# Ldr.T x\n",
    "features = d_ew * x[:, None] # (T, t_0)\n",
    "features = torch.stack([features.diagonal(offset=-offset, dim1=0, dim2=1).sum(-1) for offset in range(1, 5)], dim=0) # [(1)] * 4\n",
    "y = x.clone()\n",
    "y[0] = x[0] * 0\n",
    "y[:-1] = y[:-1] - features\n",
    "print(y)\n",
    "print(Ldr.T @ x)"
   ]
  },
  {
   "cell_type": "markdown",
   "metadata": {},
   "source": [
    "## define functions for such situations"
   ]
  },
  {
   "cell_type": "code",
   "execution_count": 12,
   "metadata": {},
   "outputs": [
    {
     "name": "stdout",
     "output_type": "stream",
     "text": [
      "tensor([[0., 0., 0., 0., 0.],\n",
      "        [1., 0., 0., 0., 0.],\n",
      "        [1., 1., 0., 0., 0.],\n",
      "        [0., 1., 1., 0., 0.],\n",
      "        [0., 0., 1., 1., 0.]])\n",
      "tensor([[ 0.0000,  0.0000,  0.0000,  0.0000,  0.0000],\n",
      "        [-1.0000,  1.0000,  0.0000,  0.0000,  0.0000],\n",
      "        [-0.5000, -0.5000,  1.0000,  0.0000,  0.0000],\n",
      "        [ 0.0000, -0.5000, -0.5000,  1.0000,  0.0000],\n",
      "        [ 0.0000,  0.0000, -0.5000, -0.5000,  1.0000]])\n"
     ]
    }
   ],
   "source": [
    "def trim_weight_matrix(W:torch.Tensor, skip:int):\n",
    "    assert W.dim() == 2 and W.size(0) == W.size(1), 'W should be a square matrix'\n",
    "    mask = torch.zeros_like(W)\n",
    "    for i in range(skip):\n",
    "        mask.diagonal(-i-1).fill_(1)\n",
    "    return W * mask\n",
    "\n",
    "W = torch.ones(5,5)\n",
    "W = trim_weight_matrix(W, 2)\n",
    "print(W)\n",
    "\n",
    "def normalized_Laplacian_matrix(W:torch.Tensor):\n",
    "    assert W.dim() == 2 and W.size(0) == W.size(1), 'W should be a square matrix'\n",
    "    W[0,0] = 1\n",
    "    degree = W.sum(1)\n",
    "    W = W / degree[:,None]\n",
    "    return torch.eye(W.size(0)) - W\n",
    "\n",
    "Ldr = normalized_Laplacian_matrix(W)\n",
    "print(Ldr)"
   ]
  },
  {
   "cell_type": "code",
   "execution_count": null,
   "metadata": {},
   "outputs": [
    {
     "name": "stdout",
     "output_type": "stream",
     "text": [
      "tensor([[[0.0000, 0.0000],\n",
      "         [1.0000, 0.0000],\n",
      "         [0.5000, 0.5000],\n",
      "         [0.5000, 0.5000],\n",
      "         [0.5000, 0.5000]],\n",
      "\n",
      "        [[0.0000, 0.0000],\n",
      "         [1.0000, 0.0000],\n",
      "         [0.5000, 0.5000],\n",
      "         [0.5000, 0.5000],\n",
      "         [0.5000, 0.5000]],\n",
      "\n",
      "        [[0.0000, 0.0000],\n",
      "         [1.0000, 0.0000],\n",
      "         [0.5000, 0.5000],\n",
      "         [0.5000, 0.5000],\n",
      "         [0.5000, 0.5000]],\n",
      "\n",
      "        [[0.0000, 0.0000],\n",
      "         [1.0000, 0.0000],\n",
      "         [0.5000, 0.5000],\n",
      "         [0.5000, 0.5000],\n",
      "         [0.5000, 0.5000]],\n",
      "\n",
      "        [[0.0000, 0.0000],\n",
      "         [1.0000, 0.0000],\n",
      "         [0.5000, 0.5000],\n",
      "         [0.5000, 0.5000],\n",
      "         [0.5000, 0.5000]],\n",
      "\n",
      "        [[0.0000, 0.0000],\n",
      "         [1.0000, 0.0000],\n",
      "         [0.5000, 0.5000],\n",
      "         [0.5000, 0.5000],\n",
      "         [0.5000, 0.5000]],\n",
      "\n",
      "        [[0.0000, 0.0000],\n",
      "         [1.0000, 0.0000],\n",
      "         [0.5000, 0.5000],\n",
      "         [0.5000, 0.5000],\n",
      "         [0.5000, 0.5000]]])\n"
     ]
    }
   ],
   "source": [
    "def directed_edge_weights(d_ew:torch.Tensor):\n",
    "    N, T, skip = d_ew.size()\n",
    "    d_ew = d_ew.tril(diagonal=-1)\n",
    "    d_ew.tril\n",
    "    \n",
    "    d_ew[:,0,0].fill_(1)\n",
    "    # print(d_ew)\n",
    "    degree = d_ew.sum(-1, keepdim=True)\n",
    "    d_ew = d_ew / degree\n",
    "    d_ew[:,0,0].fill_(0)\n",
    "    d_ew = d_ew.permute(1,2,0)\n",
    "    return d_ew # (T, skip, N)\n",
    "\n",
    "d_ew = torch.ones(7,5,2) # * torch.arange(1, 8)[:,None,None] # 7 nodes\n",
    "d_ew = directed_edge_weights(d_ew)\n",
    "print(d_ew.permute(2,0,1))"
   ]
  },
  {
   "cell_type": "code",
   "execution_count": 45,
   "metadata": {},
   "outputs": [
    {
     "name": "stdout",
     "output_type": "stream",
     "text": [
      "tensor([[-1, -2],\n",
      "        [ 0, -1],\n",
      "        [ 1,  0],\n",
      "        [ 2,  1],\n",
      "        [ 3,  2]])\n",
      "1 5 7 1\n",
      "torch.Size([5, 2, 7]) torch.Size([1, 10, 7, 1])\n",
      "torch.Size([1, 5, 2, 7, 1])\n",
      "tensor([[0.0000, 0.0000],\n",
      "        [1.0000, 0.0000],\n",
      "        [1.0000, 0.5000],\n",
      "        [1.5000, 1.0000],\n",
      "        [2.0000, 1.5000]])\n",
      "tensor([0.0000, 1.0000, 1.5000, 1.5000, 1.5000])\n",
      "tensor([0.0000, 1.0000, 1.5000, 1.5000, 1.5000])\n",
      "tensor([0.0000, 1.0000, 1.5000, 1.5000, 1.5000])\n"
     ]
    }
   ],
   "source": [
    "time_list = torch.arange(0,5).reshape(-1, 1) - torch.arange(1,2 + 1)\n",
    "print(time_list)\n",
    "x = torch.arange(1,6).float()[None, :, None, None].repeat(1, 1, 7, 1)\n",
    "# print(d_ew)\n",
    "def apply_op_Ldr(d_ew, time_list, x):\n",
    "    B, T, N, C = x.size()\n",
    "    print(B, T, N, C)\n",
    "    print(d_ew.size(), x[:,time_list.view(-1)].size())\n",
    "    features = (d_ew.view(-1,N)[None, :, :, None] * x[:,time_list.view(-1),:,:]).reshape(B, T, -1, N, C)\n",
    "    assert torch.all(features[:,0] == 0), \"Features at time 0 should be all zero\"\n",
    "    print(features.size())\n",
    "    print(features[0,:,:,0,0])\n",
    "    # print(features.sum(2).size())\n",
    "    y = x - features.sum(2)\n",
    "    y[:,0] = y[:,0] * 0\n",
    "    return y\n",
    "\n",
    "print(apply_op_Ldr(d_ew, time_list, x)[0,:,0,0])\n",
    "print(torch.einsum('ij,bjnc->binc', Ldr, x)[0,:,0,0])\n",
    "print(Ldr @ torch.arange(1,6).float())"
   ]
  },
  {
   "cell_type": "code",
   "execution_count": 47,
   "metadata": {},
   "outputs": [
    {
     "name": "stdout",
     "output_type": "stream",
     "text": [
      "tensor([-3.5000, -1.5000, -1.5000,  1.5000,  5.0000])\n",
      "tensor([-3.5000, -1.5000, -1.5000,  1.5000,  5.0000])\n",
      "tensor([-3.5000, -1.5000, -1.5000,  1.5000,  5.0000])\n"
     ]
    }
   ],
   "source": [
    "def apply_op_Ldr_T(d_ew, x):\n",
    "    # d_ew: (T, skip, N)\n",
    "    B, T, N, C = x.size()\n",
    "    features = d_ew[None, :,:,:, None] * x[:, :, None, :,:] # (B, T, skip, N, C)\n",
    "    features = torch.stack([features.diagonal(offset=-offset, dim1=1, dim2=2).sum(-1) for offset in range(1, T)], dim=1) # [(B, N, C)] * (T-1) -> (B, T-1, N, C)\n",
    "    y = x.clone()\n",
    "    y[:,0] = x[:,0] * 0\n",
    "    y[:,:-1] = y[:,:-1] - features\n",
    "    return y\n",
    "\n",
    "print(apply_op_Ldr_T(d_ew, x)[0,:,0,0])\n",
    "print(torch.einsum('ij,bjnc->binc', Ldr.T, x)[0,:,0,0])\n",
    "print(Ldr.T @ torch.arange(1,6).float())\n"
   ]
  }
 ],
 "metadata": {
  "kernelspec": {
   "display_name": "base",
   "language": "python",
   "name": "python3"
  },
  "language_info": {
   "codemirror_mode": {
    "name": "ipython",
    "version": 3
   },
   "file_extension": ".py",
   "mimetype": "text/x-python",
   "name": "python",
   "nbconvert_exporter": "python",
   "pygments_lexer": "ipython3",
   "version": "3.8.8"
  }
 },
 "nbformat": 4,
 "nbformat_minor": 2
}
